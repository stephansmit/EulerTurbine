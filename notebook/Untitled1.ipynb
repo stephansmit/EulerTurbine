{
 "cells": [
  {
   "cell_type": "code",
   "execution_count": 4,
   "metadata": {},
   "outputs": [],
   "source": [
    "import sys\n",
    "sys.path.append(\"/home/azureuser/Documents/EulerTurbine/model\")\n",
    "from CoolProp.CoolProp import PropsSI\n",
    "import CoolProp.CoolProp as CP\n",
    "\n",
    "from thermodynamic_state import *\n",
    "from turbine_state import *"
   ]
  },
  {
   "cell_type": "code",
   "execution_count": 32,
   "metadata": {},
   "outputs": [
    {
     "ename": "ValueError",
     "evalue": "Unable to find gaseous density for T: 591.744 K, p: 4.12597e+06 Pa",
     "output_type": "error",
     "traceback": [
      "\u001b[0;31m---------------------------------------------------------------------------\u001b[0m",
      "\u001b[0;31mValueError\u001b[0m                                Traceback (most recent call last)",
      "\u001b[0;32m<ipython-input-32-737dcaa87436>\u001b[0m in \u001b[0;36m<module>\u001b[0;34m()\u001b[0m\n\u001b[1;32m      1\u001b[0m \u001b[0mAS\u001b[0m \u001b[0;34m=\u001b[0m \u001b[0mCP\u001b[0m\u001b[0;34m.\u001b[0m\u001b[0mAbstractState\u001b[0m\u001b[0;34m(\u001b[0m\u001b[0;34m\"SRK\"\u001b[0m\u001b[0;34m,\u001b[0m \u001b[0;34m\"Toluene\"\u001b[0m\u001b[0;34m)\u001b[0m\u001b[0;34m\u001b[0m\u001b[0m\n\u001b[1;32m      2\u001b[0m \u001b[0mAS\u001b[0m\u001b[0;34m.\u001b[0m\u001b[0mset_mole_fractions\u001b[0m\u001b[0;34m(\u001b[0m\u001b[0;34m[\u001b[0m\u001b[0;36m1.0\u001b[0m\u001b[0;34m]\u001b[0m\u001b[0;34m)\u001b[0m\u001b[0;34m\u001b[0m\u001b[0m\n\u001b[0;32m----> 3\u001b[0;31m \u001b[0mAS\u001b[0m\u001b[0;34m.\u001b[0m\u001b[0mall_critical_points\u001b[0m\u001b[0;34m(\u001b[0m\u001b[0;34m)\u001b[0m\u001b[0;34m\u001b[0m\u001b[0m\n\u001b[0m\u001b[1;32m      4\u001b[0m \u001b[0;31m# CP.PropsSI(\"S\",\"P\",101325,\"T\",383.0,\"SRK::\")\u001b[0m\u001b[0;34m\u001b[0m\u001b[0;34m\u001b[0m\u001b[0m\n",
      "\u001b[0;32mCoolProp/AbstractState.pyx\u001b[0m in \u001b[0;36mCoolProp.CoolProp.AbstractState.all_critical_points (CoolProp/CoolProp.cpp:20314)\u001b[0;34m()\u001b[0m\n",
      "\u001b[0;32mCoolProp/AbstractState.pyx\u001b[0m in \u001b[0;36mCoolProp.CoolProp.AbstractState.all_critical_points (CoolProp/CoolProp.cpp:20155)\u001b[0;34m()\u001b[0m\n",
      "\u001b[0;31mValueError\u001b[0m: Unable to find gaseous density for T: 591.744 K, p: 4.12597e+06 Pa"
     ]
    }
   ],
   "source": [
    "AS = CP.AbstractState(\"SRK\", \"Toluene\")\n",
    "AS.set_mole_fractions([1.0])\n",
    "AS.all_critical_points()\n",
    "# CP.PropsSI(\"S\",\"P\",101325,\"T\",383.0,\"SRK::\")"
   ]
  },
  {
   "cell_type": "code",
   "execution_count": 58,
   "metadata": {},
   "outputs": [
    {
     "data": {
      "text/plain": [
       "{'area': 0.00942477796076938,\n",
       " 'height': 0.01,\n",
       " 'kinematic': {'alpha': 0,\n",
       "  'beta': 0,\n",
       "  'c': {'mach': 0,\n",
       "   'mag': 0.5,\n",
       "   'r': 0.3535533905932738,\n",
       "   'theta': 0.35355339059327373},\n",
       "  'u': {'mach': 0, 'mag': 0.0, 'r': 0, 'theta': 0.0},\n",
       "  'w': {'mach': 0,\n",
       "   'mag': 0.5,\n",
       "   'r': 0.3535533905932738,\n",
       "   'theta': 0.35355339059327373}},\n",
       " 'massflow': 2.0237755653574836,\n",
       " 'radius': 0.15,\n",
       " 'rothalpy': 0,\n",
       " 'thermodynamic': {'static': {'A': 452.350330647665,\n",
       "   'D': 607.3460539104714,\n",
       "   'H': 324533.89076945675,\n",
       "   'P': 3199924.080851304,\n",
       "   'S': 705.4570816432587,\n",
       "   'T': 524.9999272815691},\n",
       "  'total': {'A': 0,\n",
       "   'D': 607.3464249342225,\n",
       "   'H': 324534.01576945675,\n",
       "   'P': 3200000.0,\n",
       "   'S': 705.4570816432587,\n",
       "   'T': 525}}}"
      ]
     },
     "execution_count": 58,
     "metadata": {},
     "output_type": "execute_result"
    }
   ],
   "source": [
    "\n",
    "T01=525\n",
    "P01=32e5\n",
    "c1 = 0.5\n",
    "\n",
    "state1 = TurbineState(0, 0.15, 0.01)\n",
    "state1.thermodynamic.total.set_statePT(P01,T01)\n",
    "state1.thermodynamic.set_static_total_c(c1)\n",
    "state1.kinematic.set_state_alpha_cmag(alpha=45, cmag=c1)\n",
    "state1.set_massflow()\n",
    "state1.thermodynamic.static.set_speedofsound()\n",
    "#state1 = ThermodynamicState(\"Toluene\")\n",
    "#state1.set_totalPT(P01,T01)\n",
    "#state1.set_static_total_c(0.5)\n",
    "\n",
    "\n",
    "\n",
    "state1.get_turbinestate_info()\n",
    "#state1.total.get_properties_info()"
   ]
  },
  {
   "cell_type": "code",
   "execution_count": 66,
   "metadata": {},
   "outputs": [
    {
     "data": {
      "text/plain": [
       "{'area': 0.001,\n",
       " 'height': 0.01,\n",
       " 'kinematic': {'alpha': 0,\n",
       "  'beta': 0,\n",
       "  'c': {'mach': 1.0,\n",
       "   'mag': 178.71230114931487,\n",
       "   'r': 178.71230114931487,\n",
       "   'theta': 0},\n",
       "  'u': {'mach': 0, 'mag': 0.0, 'r': 0, 'theta': 0.0},\n",
       "  'w': {'mach': 1.0,\n",
       "   'mag': 178.71230114931487,\n",
       "   'r': 178.71230114931487,\n",
       "   'theta': 0.0}},\n",
       " 'massflow': 2.0511290543926095,\n",
       " 'radius': 0.15,\n",
       " 'rothalpy': 0,\n",
       " 'thermodynamic': {'static': {'A': 178.71230114931487,\n",
       "   'D': 11.477268443199568,\n",
       "   'H': 293533,\n",
       "   'P': 261163.75518341345,\n",
       "   'S': 705.4570816432587,\n",
       "   'T': 420.82998256076144},\n",
       "  'total': {'A': 0,\n",
       "   'D': 607.3464249342225,\n",
       "   'H': 324534.01576945675,\n",
       "   'P': 3200000.0,\n",
       "   'S': 705.4570816432587,\n",
       "   'T': 525}}}"
      ]
     },
     "execution_count": 66,
     "metadata": {},
     "output_type": "execute_result"
    }
   ],
   "source": [
    "Astar =  0.001\n",
    "state2  = TurbineState(0, 0.15, 0.01)\n",
    "state2.area = Astar\n",
    "state2.thermodynamic.total = state1.thermodynamic.total\n",
    "\n",
    "#assume density\n",
    "hstar =293533\n",
    "\n",
    "state2.thermodynamic.set_staticHS(hstar, state2.thermodynamic.total.S)\n",
    "state2.thermodynamic.static.set_speedofsound()\n",
    "\n",
    "state2.kinematic.c.r = state2.thermodynamic.static.A\n",
    "state2.kinematic.c.theta = 0 \n",
    "state2.kinematic.c.set_vector_with_components()\n",
    "state2.kinematic.set_w_with_c_u()\n",
    "state2.set_massflow()\n",
    "state2.thermodynamic.static.set_speedofsound()\n",
    "state2.kinematic.set_mach_numbers(state2.thermodynamic.static.A)\n",
    "\n",
    "state2.get_turbinestate_info()"
   ]
  },
  {
   "cell_type": "code",
   "execution_count": 67,
   "metadata": {},
   "outputs": [
    {
     "data": {
      "text/plain": [
       "{'area': 0.01884955592153876,\n",
       " 'height': 0.02,\n",
       " 'kinematic': {'alpha': 0,\n",
       "  'beta': 0,\n",
       "  'c': {'mach': 4.380799714751033,\n",
       "   'mag': 742.9697591946976,\n",
       "   'r': 742.9697591946976,\n",
       "   'theta': 0},\n",
       "  'u': {'mach': 0, 'mag': 0.0, 'r': 0, 'theta': 0.0},\n",
       "  'w': {'mach': 4.380799714751033,\n",
       "   'mag': 742.9697591946976,\n",
       "   'r': 742.9697591946976,\n",
       "   'theta': 0.0}},\n",
       " 'massflow': 1.9809762276670022,\n",
       " 'radius': 0.15,\n",
       " 'rothalpy': 0,\n",
       " 'thermodynamic': {'static': {'A': 169.59683335738202,\n",
       "   'D': 0.14145131968873695,\n",
       "   'H': 186533,\n",
       "   'P': 3168.75123176192,\n",
       "   'S': 705.4570816432587,\n",
       "   'T': 294.6861254002527},\n",
       "  'total': {'A': 0,\n",
       "   'D': 607.3464249342225,\n",
       "   'H': 324534.01576945675,\n",
       "   'P': 3200000.0,\n",
       "   'S': 705.4570816432587,\n",
       "   'T': 525}}}"
      ]
     },
     "execution_count": 67,
     "metadata": {},
     "output_type": "execute_result"
    }
   ],
   "source": [
    "\n",
    "state3  = TurbineState(0, 0.15, 0.02)\n",
    "state3.thermodynamic.total = state1.thermodynamic.total\n",
    "\n",
    "#assume density\n",
    "h3 =186533\n",
    "\n",
    "state3.thermodynamic.set_staticHS(h3, state3.thermodynamic.total.S)\n",
    "cmag = state3.thermodynamic.get_c_static_total()\n",
    "state3.kinematic.c.r = cmag\n",
    "state3.kinematic.c.theta = 0\n",
    "state3.kinematic.c.set_vector_with_components()\n",
    "state3.kinematic.set_w_with_c_u()\n",
    "state3.thermodynamic.static.set_speedofsound()\n",
    "state3.kinematic.set_mach_numbers(state3.thermodynamic.static.A)\n",
    "state3.set_massflow()\n",
    "\n",
    "state3.get_turbinestate_info()\n",
    "# state2.get_turbinestate_info()"
   ]
  },
  {
   "cell_type": "code",
   "execution_count": null,
   "metadata": {},
   "outputs": [],
   "source": []
  }
 ],
 "metadata": {
  "kernelspec": {
   "display_name": "Python 2",
   "language": "python",
   "name": "python2"
  },
  "language_info": {
   "codemirror_mode": {
    "name": "ipython",
    "version": 2
   },
   "file_extension": ".py",
   "mimetype": "text/x-python",
   "name": "python",
   "nbconvert_exporter": "python",
   "pygments_lexer": "ipython2",
   "version": "2.7.12"
  }
 },
 "nbformat": 4,
 "nbformat_minor": 2
}
