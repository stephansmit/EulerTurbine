{
 "cells": [
  {
   "cell_type": "code",
   "execution_count": 110,
   "metadata": {},
   "outputs": [],
   "source": [
    "import sys\n",
    "sys.path.append(\"/home/azureuser/Documents/EulerTurbine/model\")\n",
    "from radial_turbine import RadialTurbine\n",
    "from scipy.optimize import minimize"
   ]
  },
  {
   "cell_type": "code",
   "execution_count": 226,
   "metadata": {},
   "outputs": [],
   "source": [
    "#rotationalspeed\n",
    "omega = 2600.226\n",
    "etats = 0.5\n",
    "#heights\n",
    "h1 = 0.002\n",
    "h2 = 0.016\n",
    "h3 = 0.22\n",
    "\n",
    "#radial postions\n",
    "r1=.210\n",
    "r2=0.115\n",
    "r3=0.090\n",
    "\n",
    "#inlet conditions\n",
    "P1=32e5\n",
    "T1=525\n",
    "C1=0.5\n",
    "alpha1 = 45\n",
    "\n",
    "#inlet/rotor interface conditions\n",
    "alpha2=77\n",
    "DOR = 0.0\n",
    "#outlet conditions\n",
    "P3 = .8e5\n",
    "init=470\n",
    "\n",
    "turbine = RadialTurbine(omega, h1, h2, h3, r1, r2, r3, P1, T1, C1, alpha1, alpha2, P3, DOR, init)\n",
    "area = turbine.state2.area"
   ]
  },
  {
   "cell_type": "code",
   "execution_count": 227,
   "metadata": {},
   "outputs": [
    {
     "data": {
      "text/plain": [
       "11253.933975831602"
      ]
     },
     "execution_count": 227,
     "metadata": {},
     "output_type": "execute_result"
    }
   ],
   "source": [
    "turbine.state3.thermodynamic.static.P"
   ]
  },
  {
   "cell_type": "code",
   "execution_count": 161,
   "metadata": {},
   "outputs": [],
   "source": [
    "def calc_error(x):\n",
    "    h2 = x[0]*0.003\n",
    "    try:\n",
    "        turbine1 = RadialTurbine(omega, h1, h2, h3, r1, r2, r3, P1, T1, C1, alpha1, alpha2, P3, DOR, init)\n",
    "        error = (turbine1.state3.thermodynamic.static.P - 1.0e5)**2\n",
    "    except:\n",
    "        error = 1e10\n",
    "    return error"
   ]
  },
  {
   "cell_type": "code",
   "execution_count": 162,
   "metadata": {},
   "outputs": [],
   "source": [
    "x0= [1]\n",
    "res = minimize(calc_error, x0)\n"
   ]
  },
  {
   "cell_type": "code",
   "execution_count": 163,
   "metadata": {},
   "outputs": [],
   "source": [
    "h2 = res.x[0]*0.003\n",
    "turbine = RadialTurbine(omega, h1, h2, h3, r1, r2, r3, P1, T1, C1, alpha1, alpha2, P3, DOR, init)"
   ]
  },
  {
   "cell_type": "code",
   "execution_count": 164,
   "metadata": {},
   "outputs": [
    {
     "data": {
      "text/plain": [
       "66737.63682982148"
      ]
     },
     "execution_count": 164,
     "metadata": {},
     "output_type": "execute_result"
    }
   ],
   "source": [
    "turbine.state3.thermodynamic.static.P"
   ]
  },
  {
   "cell_type": "code",
   "execution_count": 156,
   "metadata": {},
   "outputs": [
    {
     "data": {
      "text/plain": [
       "6264286608.423206"
      ]
     },
     "execution_count": 156,
     "metadata": {},
     "output_type": "execute_result"
    }
   ],
   "source": [
    "(turbine.state3.thermodynamic.static.P - 1.0e5)**2\n"
   ]
  },
  {
   "cell_type": "code",
   "execution_count": null,
   "metadata": {},
   "outputs": [],
   "source": []
  }
 ],
 "metadata": {
  "kernelspec": {
   "display_name": "Python 2",
   "language": "python",
   "name": "python2"
  },
  "language_info": {
   "codemirror_mode": {
    "name": "ipython",
    "version": 2
   },
   "file_extension": ".py",
   "mimetype": "text/x-python",
   "name": "python",
   "nbconvert_exporter": "python",
   "pygments_lexer": "ipython2",
   "version": "2.7.12"
  }
 },
 "nbformat": 4,
 "nbformat_minor": 2
}
