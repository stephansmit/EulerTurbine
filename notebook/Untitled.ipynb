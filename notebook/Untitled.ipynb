{
 "cells": [
  {
   "cell_type": "code",
   "execution_count": 2,
   "metadata": {},
   "outputs": [],
   "source": [
    "import sys\n",
    "sys.path.append(\"/home/azureuser/Documents/EulerTurbine/model/\")\n",
    "from  create_figures import *\n",
    "from radial_turbine import *\n",
    "import imageio\n"
   ]
  },
  {
   "cell_type": "code",
   "execution_count": 2,
   "metadata": {},
   "outputs": [
    {
     "ename": "NameError",
     "evalue": "name 'pd' is not defined",
     "output_type": "error",
     "traceback": [
      "\u001b[0;31m---------------------------------------------------------------------------\u001b[0m",
      "\u001b[0;31mNameError\u001b[0m                                 Traceback (most recent call last)",
      "\u001b[0;32m<ipython-input-2-b53641cee047>\u001b[0m in \u001b[0;36m<module>\u001b[0;34m()\u001b[0m\n\u001b[1;32m      1\u001b[0m \u001b[0mfigpath\u001b[0m \u001b[0;34m=\u001b[0m \u001b[0;34m\"/home/azureuser/Documents/EulerTurbine/results/figures/\"\u001b[0m\u001b[0;34m\u001b[0m\u001b[0m\n\u001b[1;32m      2\u001b[0m \u001b[0mmoviepath\u001b[0m \u001b[0;34m=\u001b[0m \u001b[0;34m\"/home/azureuser/Documents/EulerTurbine/results/movies/\"\u001b[0m\u001b[0;34m\u001b[0m\u001b[0m\n\u001b[0;32m----> 3\u001b[0;31m \u001b[0mdfturbine\u001b[0m \u001b[0;34m=\u001b[0m \u001b[0mpd\u001b[0m\u001b[0;34m.\u001b[0m\u001b[0mread_csv\u001b[0m\u001b[0;34m(\u001b[0m\u001b[0;34m\"../data/EulerTurbineData.txt\"\u001b[0m\u001b[0;34m,\u001b[0m \u001b[0msep\u001b[0m\u001b[0;34m=\u001b[0m\u001b[0;34m'\\t'\u001b[0m\u001b[0;34m)\u001b[0m\u001b[0;34m\u001b[0m\u001b[0m\n\u001b[0m\u001b[1;32m      4\u001b[0m \u001b[0mdfturbine\u001b[0m \u001b[0;34m=\u001b[0m \u001b[0mscale_variables\u001b[0m\u001b[0;34m(\u001b[0m\u001b[0mdfturbine\u001b[0m\u001b[0;34m)\u001b[0m\u001b[0;34m\u001b[0m\u001b[0m\n\u001b[1;32m      5\u001b[0m \u001b[0malpha2_vec\u001b[0m \u001b[0;34m=\u001b[0m \u001b[0mdfturbine\u001b[0m\u001b[0;34m[\u001b[0m\u001b[0;34m'state2_kinematic_alpha'\u001b[0m\u001b[0;34m]\u001b[0m\u001b[0;34m.\u001b[0m\u001b[0munique\u001b[0m\u001b[0;34m(\u001b[0m\u001b[0;34m)\u001b[0m\u001b[0;34m\u001b[0m\u001b[0m\n",
      "\u001b[0;31mNameError\u001b[0m: name 'pd' is not defined"
     ]
    }
   ],
   "source": [
    "figpath = \"/home/azureuser/Documents/EulerTurbine/results/figures/\"\n",
    "moviepath = \"/home/azureuser/Documents/EulerTurbine/results/movies/\"\n",
    "dfturbine = pd.read_csv(\"../data/EulerTurbineData.txt\", sep='\\t')\n",
    "dfturbine = scale_variables(dfturbine)\n",
    "alpha2_vec = dfturbine['state2_kinematic_alpha'].unique()\n",
    "omega_vec = dfturbine['omega'].sort_values().unique()\n",
    "R_vec = dfturbine['R'].sort_values().unique()\n",
    "h2_vec = dfturbine['state2_height'].sort_values().unique()\n",
    "h1_vec = dfturbine['state1_height'].sort_values().unique()\n",
    "\n",
    "h3_vec = dfturbine['state3_height'].sort_values().unique()\n",
    "a3_vec = dfturbine['state3_area'].sort_values().unique()\n"
   ]
  },
  {
   "cell_type": "code",
   "execution_count": 1,
   "metadata": {},
   "outputs": [
    {
     "ename": "NameError",
     "evalue": "name 'dfturbine' is not defined",
     "output_type": "error",
     "traceback": [
      "\u001b[0;31m---------------------------------------------------------------------------\u001b[0m",
      "\u001b[0;31mNameError\u001b[0m                                 Traceback (most recent call last)",
      "\u001b[0;32m<ipython-input-1-14edc2bf7dab>\u001b[0m in \u001b[0;36m<module>\u001b[0;34m()\u001b[0m\n\u001b[1;32m      1\u001b[0m \u001b[0;31m#dfturbine['state2_massflow'].max()\u001b[0m\u001b[0;34m\u001b[0m\u001b[0;34m\u001b[0m\u001b[0m\n\u001b[0;32m----> 2\u001b[0;31m \u001b[0mdfturbine\u001b[0m\u001b[0;34m[\u001b[0m\u001b[0;34m'state2_massflow'\u001b[0m\u001b[0;34m]\u001b[0m\u001b[0;34m.\u001b[0m\u001b[0mmin\u001b[0m\u001b[0;34m(\u001b[0m\u001b[0;34m)\u001b[0m\u001b[0;34m\u001b[0m\u001b[0m\n\u001b[0m",
      "\u001b[0;31mNameError\u001b[0m: name 'dfturbine' is not defined"
     ]
    }
   ],
   "source": [
    "#dfturbine['state2_massflow'].max()\n",
    "dfturbine['state2_massflow'].min()\n"
   ]
  },
  {
   "cell_type": "code",
   "execution_count": 9,
   "metadata": {},
   "outputs": [],
   "source": [
    "def plot_contour_gif(df, cx, cy, cz, tc1, c1, f1, c2, f2, figpath, figname, fontsize):\n",
    "    time_vec = dfturbine[tc1].sort_values().unique()\n",
    "    filenames = []\n",
    "    maxc = df\n",
    "    df_filter_tmp = filter_df_2cols(df, c1, f1, c2, f2)\n",
    "    cmax = df_filter_tmp[cz].max()\n",
    "    cmin = df_filter_tmp[cz].min()\n",
    "    xmax = df_filter_tmp[cx].max()\n",
    "    xmin = df_filter_tmp[cx].min()\n",
    "    ymax = df_filter_tmp[cy].max()\n",
    "    ymin = df_filter_tmp[cy].min()\n",
    "\n",
    "        \n",
    "    for index, i in enumerate(time_vec):\n",
    "        df_filter = filter_df_3cols(df, tc1, i, c1, f1, c2, f2)\n",
    "        hdf = df_filter.groupby([cx,cy])[[cz]].mean()\n",
    "        hdfreset = hdf.reset_index()\n",
    "        hdfreset.columns = [cx, cy, cz]\n",
    "        hdfpivot=hdfreset.pivot(cx,cy)\n",
    "        X=hdfpivot.columns.levels[1].values\n",
    "        Y=hdfpivot.index.values\n",
    "        Z=hdfpivot.values\n",
    "        Xi,Yi = np.meshgrid(X, Y)\n",
    "        fig, ax = plt.subplots(figsize=(12,9))\n",
    "        CS = ax.contourf(Yi, Xi, Z,alpha=0.7, cmap=plt.cm.jet, levels=np.linspace(cmin,cmax,40))\n",
    "        cbar = plt.colorbar(CS)\n",
    "        ax.annotate(\" \".join([namedictionary[tc1]['symbol'],\"=\",\"{0:10.2f}\".format(i),namedictionary[tc1]['units']]) ,\n",
    "            xy=(475, 550), xycoords='figure pixels',fontsize=21)\n",
    "    \n",
    "        cbar.ax.set_ylabel(\" \".join([namedictionary[cz]['symbol'],namedictionary[cz]['units']]), fontsize=fontsize)\n",
    "        ax.set_title(namedictionary[cz][\"longname\"], fontsize=fontsize)\n",
    "        ax.set_xlabel(\" \".join([namedictionary[cx]['symbol'],namedictionary[cx]['units']]), fontsize=fontsize)\n",
    "        ax.set_ylabel(\" \".join([namedictionary[cy]['symbol'],namedictionary[cy]['units']]), fontsize=fontsize)\n",
    "        ax.tick_params(labelsize=fontsize)\n",
    "        cbar.ax.tick_params(labelsize=fontsize)\n",
    "        suffix=str(index)+\".png\"\n",
    "        plt.ylim(ymin, ymax) \n",
    "        plt.xlim(xmin, xmax) \n",
    "        plt.tight_layout();plt.savefig(os.path.join(figpath,figname+suffix))\n",
    "        plt.close()\n",
    "        filenames.append(os.path.join(figpath,figname+suffix))\n",
    "        images = []\n",
    "        suffix2=\".gif\"\n",
    "    for filename in filenames:\n",
    "        images.append(imageio.imread(filename))\n",
    "    imageio.mimsave(os.path.join(moviepath,figname+suffix2), images,duration=0.5)\n",
    "    for i in filenames:\n",
    "        os.system(\"rm -rf \"+i)\n",
    "\n",
    "        "
   ]
  },
  {
   "cell_type": "code",
   "execution_count": 11,
   "metadata": {},
   "outputs": [],
   "source": [
    "# plot_contour_gif(dfturbine, \n",
    "#              \"omega\", \"R\", \"work\", \n",
    "#              \"state3_thermodynamic_static_P\",\n",
    "#              \"state1_height\", h1_vec[0],\n",
    "#              \"state2_kinematic_alpha\",alpha2_vec[0],\n",
    "#              figpath, \"work_pressure\", 21\n",
    "#              )\n",
    "plot_contour_gif(dfturbine, \n",
    "             \"omega\", \"R\", \"state2_area\", \n",
    "             \"state3_thermodynamic_static_P\",\n",
    "             \"state1_height\", h1_vec[0],\n",
    "             \"state3_area\",a3_vec[2],\n",
    "             figpath, \"area_pressure\", 21\n",
    "             )"
   ]
  },
  {
   "cell_type": "code",
   "execution_count": 23,
   "metadata": {},
   "outputs": [],
   "source": [
    "plot_contour_gif(dfturbine, \n",
    "             \"omega\", \"R\", \"state3_kinematic_alpha\", \n",
    "             \"state3_area\",\n",
    "             \"state1_height\", h1_vec[0],\n",
    "             \"state2_kinematic_alpha\",alpha2_vec[0],\n",
    "             figpath, \"state3_kinematic_alpha\", 21\n",
    "             )\n",
    "plot_contour_gif(dfturbine, \n",
    "             \"omega\", \"R\", \"work\", \n",
    "             \"state3_area\",\n",
    "             \"state1_height\", h1_vec[0],\n",
    "             \"state2_kinematic_alpha\",alpha2_vec[0],\n",
    "             figpath, \"work\", 21\n",
    "             )\n",
    "\n",
    "plot_contour_gif(dfturbine, \n",
    "             \"omega\", \"R\", \"state3_kinematic_c_mach\", \n",
    "             \"state3_area\",\n",
    "             \"state1_height\", h1_vec[0],\n",
    "             \"state2_kinematic_alpha\",alpha2_vec[0],\n",
    "             figpath, \"c3mach\", 21\n",
    "             )\n",
    "plot_contour_gif(dfturbine, \n",
    "             \"omega\", \"R\", \"state3_kinematic_w_mach\", \n",
    "             \"state3_area\",\n",
    "             \"state1_height\", h1_vec[0],\n",
    "             \"state2_kinematic_alpha\",alpha2_vec[0],\n",
    "             figpath, \"w3mach\", 21\n",
    "             )\n"
   ]
  },
  {
   "cell_type": "code",
   "execution_count": 24,
   "metadata": {},
   "outputs": [],
   "source": [
    "\n",
    "plot_contour_gif(dfturbine, \n",
    "             \"omega\", \"R\", \"state2_area\", \n",
    "             \"state3_area\",\n",
    "             \"state1_height\", h1_vec[0],\n",
    "             \"state2_kinematic_alpha\",alpha2_vec[0],\n",
    "             figpath, \"area2\", 21\n",
    "             )\n",
    "\n",
    "\n"
   ]
  },
  {
   "cell_type": "code",
   "execution_count": 27,
   "metadata": {},
   "outputs": [],
   "source": [
    "# hdf = df_filtered.groupby([\"state2_height\",\"state3_height\"])[[\"work\"]].mean()\n",
    "plot_contour_gif(dfturbine, \n",
    "             \"omega\", \"R\", \"state3_kinematic_alpha\", \n",
    "             \"state3_area\",\n",
    "             \"state1_height\", h1_vec[0],\n",
    "             \"state2_kinematic_alpha\",alpha2_vec[0],\n",
    "             figpath, \"state3_kinematic_alpha\", 21\n",
    "             )\n",
    "plot_contour_gif(dfturbine, \n",
    "             \"omega\", \"R\", \"state3_kinematic_w_mag\", \n",
    "             \"state3_area\",\n",
    "             \"state1_height\", h1_vec[0],\n",
    "             \"state2_kinematic_alpha\",alpha2_vec[0],\n",
    "             figpath, \"state3_kinematic_w_mag\", 21\n",
    "             )\n",
    "plot_contour_gif(dfturbine, \n",
    "             \"omega\", \"R\", \"state3_kinematic_c_mag\", \n",
    "             \"state3_area\",\n",
    "             \"state1_height\", h1_vec[0],\n",
    "             \"state2_kinematic_alpha\",alpha2_vec[0],\n",
    "             figpath, \"state3_kinematic_c_mag\", 21\n",
    "             )\n"
   ]
  },
  {
   "cell_type": "code",
   "execution_count": null,
   "metadata": {},
   "outputs": [],
   "source": [
    "# dfplot = dfturbine.dropna()\n",
    "# fig, ax = plt.subplots()\n",
    "# ax2 = ax.twinx()\n",
    "# dfplot[abs(dfplot['omega']-2600)<1e-6]['state2_height']\n",
    "# dfplot[abs(dfplot['omega']-3200)<1e-6].groupby(['state2_area']).plot(x='R', y='state3_kinematic_alpha', ax= ax)\n",
    "# dfplot[abs(dfplot['omega']-3200)<1e-6].groupby(['state2_height']).plot(x='R', y='state3_kinematic_w_mag', ax= ax2)\n",
    "# dfplot[abs(dfplot['omega']-3200)<1e-6].groupby(['state2_height']).plot(x='R', y='state3_thermodynamic_static_H', ax= ax2)\n",
    "\n",
    "#dfplot.groupby(\"state2_kinematic_alpha\").plot(x='R', y='state3_kinematic_alpha', ax= ax2)\n",
    "# dfplot.groupby(\"state2_height\").plot(x='R', y='state2_thermodynamic_static_H', ax= ax2, color='g')\n",
    "# dfplot.plot(x='R', y='state3_thermodynamic_static_H', ax= ax2, color='r')"
   ]
  },
  {
   "cell_type": "code",
   "execution_count": null,
   "metadata": {},
   "outputs": [],
   "source": [
    "fig, ax = plt.subplots()\n",
    "ax2 = ax.twinx()\n",
    "\n",
    "dfplot[abs(dfplot['state2_height']-9e-3)<1e-6].groupby(\"omega\").plot(x='R', y='state3_kinematic_alpha', ax= ax)\n",
    "dfplot[abs(dfplot['state2_height']-9e-3)<1e-6].groupby(\"omega\").plot(x='R', y='state3_kinematic_beta', ax= ax2)\n"
   ]
  },
  {
   "cell_type": "code",
   "execution_count": null,
   "metadata": {},
   "outputs": [],
   "source": [
    "fig, ax = plt.subplots()\n",
    "ax2 = ax.twinx()\n",
    "dfplot[abs(dfplot['omega']-3200)<1e-6].groupby(\"state2_height\").plot(x='R', y='state2_thermodynamic_static_D', ax= ax)\n",
    "# dfplot[abs(dfplot['state2_height']-9e-3)<1e-6].plot(x='R', y='state2_kinematic_beta', ax= ax2)\n"
   ]
  },
  {
   "cell_type": "code",
   "execution_count": null,
   "metadata": {},
   "outputs": [],
   "source": [
    "dfplot = dfturbine.dropna()\n",
    "fig, ax = plt.subplots()\n",
    "ax2 = ax.twinx()\n",
    "dfplot.plot(x='R', y='work', ax= ax)\n",
    "dfplot.plot(x='R', y='state3_kinematic_alpha', ax= ax2, color='g')\n",
    "dfplot.plot(x='R', y='state3_kinematic_beta', ax= ax2, color='r')"
   ]
  },
  {
   "cell_type": "code",
   "execution_count": null,
   "metadata": {},
   "outputs": [],
   "source": [
    "fig, ax = plt.subplots()\n",
    "ax2 = ax.twinx()\n",
    "dfturbine.dropna().plot(x='R', y='state3_kinematic_w_mag', ax= ax)\n",
    "dfturbine.dropna().plot(x='R', y='state3_kinematic_c_mag', ax= ax2, color='g')"
   ]
  },
  {
   "cell_type": "code",
   "execution_count": null,
   "metadata": {},
   "outputs": [],
   "source": [
    "dfturbine"
   ]
  },
  {
   "cell_type": "code",
   "execution_count": null,
   "metadata": {},
   "outputs": [],
   "source": [
    "dfturbine.columns"
   ]
  },
  {
   "cell_type": "code",
   "execution_count": null,
   "metadata": {},
   "outputs": [],
   "source": [
    "fig, ax = plt.subplots()\n",
    "ax2 = ax.twinx()\n",
    "dfturbine.dropna().plot(x='R', y='state2_kinematic_alpha', ax= ax)\n",
    "dfturbine.dropna().plot(x='R', y='state3_kinematic_alpha', ax= ax2, color='g')"
   ]
  },
  {
   "cell_type": "code",
   "execution_count": null,
   "metadata": {},
   "outputs": [],
   "source": [
    "DOR = np.linspace(0.29, 0.7, 100)\n",
    "work = []\n",
    "for dor in DOR:\n",
    "    turbine = RadialTurbine(omega, h1, h2, h3, r1, r2, r3, P1, T1, C1, alpha1, alpha2, P3, dor)\n",
    "    work.append(turbine.work_enthalpy)\n"
   ]
  },
  {
   "cell_type": "code",
   "execution_count": null,
   "metadata": {},
   "outputs": [],
   "source": [
    "plt.plot(DOR, work)"
   ]
  },
  {
   "cell_type": "code",
   "execution_count": null,
   "metadata": {},
   "outputs": [],
   "source": [
    "DOR = np.linspace(0.27, 0.7, 100)\n",
    "work = []\n",
    "h1 = 0.002\n",
    "alpha2=80\n",
    "\n",
    "for dor in DOR:\n",
    "    turbine = RadialTurbine(omega, h1, h2, h3, r1, r2, r3, P1, T1, C1, alpha1, alpha2, P3, dor)\n",
    "    work.append(turbine.work_enthalpy)"
   ]
  },
  {
   "cell_type": "code",
   "execution_count": null,
   "metadata": {},
   "outputs": [],
   "source": [
    "plt.plot(DOR, work)"
   ]
  },
  {
   "cell_type": "code",
   "execution_count": null,
   "metadata": {},
   "outputs": [],
   "source": [
    "DOR = np.linspace(0.3, 0.7, 100)\n",
    "work = []\n",
    "h1 = 0.002\n",
    "alpha2=82\n",
    "\n",
    "for dor in DOR:\n",
    "    turbine = RadialTurbine(omega, h1, h2, h3, r1, r2, r3, P1, T1, C1, alpha1, alpha2, P3, dor)\n",
    "    work.append(turbine.work_enthalpy)"
   ]
  },
  {
   "cell_type": "code",
   "execution_count": null,
   "metadata": {},
   "outputs": [],
   "source": [
    "plt.plot(DOR, work)"
   ]
  },
  {
   "cell_type": "code",
   "execution_count": null,
   "metadata": {},
   "outputs": [],
   "source": [
    "\n",
    "2.0*float(range(0,10))"
   ]
  },
  {
   "cell_type": "code",
   "execution_count": null,
   "metadata": {},
   "outputs": [],
   "source": []
  },
  {
   "cell_type": "code",
   "execution_count": null,
   "metadata": {},
   "outputs": [],
   "source": []
  }
 ],
 "metadata": {
  "kernelspec": {
   "display_name": "Python 2",
   "language": "python",
   "name": "python2"
  },
  "language_info": {
   "codemirror_mode": {
    "name": "ipython",
    "version": 2
   },
   "file_extension": ".py",
   "mimetype": "text/x-python",
   "name": "python",
   "nbconvert_exporter": "python",
   "pygments_lexer": "ipython2",
   "version": "2.7.12"
  }
 },
 "nbformat": 4,
 "nbformat_minor": 2
}
