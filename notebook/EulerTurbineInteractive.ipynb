{
 "cells": [
  {
   "cell_type": "code",
   "execution_count": 2,
   "metadata": {},
   "outputs": [],
   "source": [
    "import sys\n",
    "import numpy as np\n",
    "import matplotlib.pyplot as plt\n",
    "from matplotlib.widgets import Slider, Button, RadioButtons\n",
    "import pandas as pd\n",
    "import math\n",
    "import ipywidgets as widgets\n",
    "from IPython.display import display\n",
    "from  ipywidgets  import interact, interactive, fixed, interact_manual\n",
    "sys.path.append(\"/home/azureuser/Documents/EulerTurbine/model/\")\n",
    "from CoolProp.CoolProp import PropsSI\n",
    "import CoolProp.CoolProp as CP\n",
    "\n",
    "from create_figures import *"
   ]
  },
  {
   "cell_type": "code",
   "execution_count": 3,
   "metadata": {},
   "outputs": [],
   "source": [
    "dfturbine = pd.read_csv(\"/home/azureuser/Documents/EulerTurbine/data/EulerTurbineData.txt\", sep='\\t')\n",
    "dfturbine['omegaHz'] = dfturbine['omega'].apply(lambda x: x / (2 * math.pi))\n",
    "alpha1_vec = dfturbine['state1_kinematic_alpha'].unique()\n",
    "h2_vec = dfturbine['state2_height'].unique()\n",
    "alpha2_vec = dfturbine['state2_kinematic_alpha'].unique()\n",
    "omega_vec = dfturbine['omegaHz'].sort_values().unique()\n",
    "R_vec = dfturbine['R'].sort_values().unique()\n",
    "h2_vec = dfturbine['state2_height'].sort_values().unique()\n",
    "P1_vec = dfturbine['state1_thermodynamic_static_P'].sort_values().unique()\n",
    "P2_vec = dfturbine['state2_thermodynamic_static_P'].sort_values().unique()\n",
    "a3_vec = dfturbine['state3_area'].sort_values().unique()\n",
    "P3_vec = dfturbine['state3_thermodynamic_static_P'].sort_values().unique()\n",
    "P4_vec = dfturbine['state4_thermodynamic_static_P'].sort_values().unique()\n",
    "eta1_vec = dfturbine['eta1'].sort_values().unique()\n",
    "eta2_vec = dfturbine['eta2'].sort_values().unique()\n",
    "\n",
    "dfnotopti = dfturbine[dfturbine['optimized'] == False]\n",
    "dfopti = dfturbine[dfturbine['optimized']]\n",
    "h3_vec = dfopti['state3_height'].unique()\n",
    "h3_vec2 = dfnotopti['state3_height'].sort_values().unique()"
   ]
  },
  {
   "cell_type": "code",
   "execution_count": 4,
   "metadata": {},
   "outputs": [],
   "source": [
    "#creating contour for compressability\n",
    "#domain\n",
    "nT = 100\n",
    "Tmin = 273.15\n",
    "Tmax = 650\n",
    "T = np.linspace(Tmin, Tmax, nT)\n",
    "nS = 100\n",
    "Smin = 850\n",
    "Smax = 1500\n",
    "S = np.linspace(Smin, Smax, nS)\n",
    "nH = 100\n",
    "Hmin = 200*1e3#PropsSI(\"H\", \"T\", Tmin, \"S\", Smin, 'Toluene')\n",
    "Hmax = 700*1e3 #psSI(\"H\", \"T\", Tmax, \"S\", Smax, 'Toluene')\n",
    "H = np.linspace(Hmin, Hmax, nH)\n",
    "#creating contour\n",
    "dftemp = pd.DataFrame(H, columns=['H'])\n",
    "dfentr = pd.DataFrame(S, columns=['S'])\n",
    "dftemp['key'] = 1\n",
    "dfentr['key'] = 1\n",
    "df = dftemp.merge(dfentr, how='outer')[['S', 'H']]\n",
    "df['Z'] = df.apply(lambda x: PropsSI('Z', 'H', x['H'], 'S', x['S'], 'Toluene'), axis=1)\n",
    "df['phase'] = df.apply(lambda x: PropsSI('Phase', 'H', x['H'], 'S', x['S'],'Toluene'), axis=1)\n",
    "gas = df['phase'] == CP.get_phase_index('phase_gas')\n",
    "supercritical_gas = df['phase'] == CP.get_phase_index('phase_supercritical_gas')\n",
    "df_contour = df[gas | supercritical_gas][['H', \"S\", \"Z\"]]\n",
    "df_contour['H']=df_contour['H']*1e-3\n",
    "df_contour['S']=df_contour['S']*1e-3\n",
    "criticalisobar = PropsSI(\"T\", \"P\", CP.PropsSI(\"Pcrit\", \"Toluene\"), \"S\", S, 'Toluene')\n",
    "dome1 = PropsSI(\"S\", \"T\", T, \"Q\", 1., 'Toluene')\n",
    "dome2 = PropsSI(\"S\", \"T\", T, \"Q\", 0., 'Toluene')\n",
    "dome1 = PropsSI(\"S\", \"T\", T, \"Q\", 1., 'Toluene')\n",
    "dome2 = PropsSI(\"S\", \"T\", T, \"Q\", 0., 'Toluene')\n",
    "dome1h=[]\n",
    "dome2h=[]\n",
    "for index, element in enumerate(dome1):\n",
    "    try:\n",
    "        dome1h.append(PropsSI(\"H\", \"T\", T[index], \"S\", element, 'Toluene'))\n",
    "    except:\n",
    "        dome1h.append(float('Inf'))\n",
    "for index, element in enumerate(dome2):\n",
    "    try:\n",
    "        dome2h.append(PropsSI(\"H\", \"T\", T[index], \"S\", element, 'Toluene'))\n",
    "    except:\n",
    "        dome2h.append(float('Inf'))\n",
    "dome1h = np.asarray(dome1h)\n",
    "dome2h = np.asarray(dome2h)"
   ]
  },
  {
   "cell_type": "code",
   "execution_count": 5,
   "metadata": {},
   "outputs": [],
   "source": [
    "#creating isobars\n",
    "dfs = []\n",
    "for i in P3_vec:\n",
    "    df=pd.DataFrame()\n",
    "    df['H'] = PropsSI(\"H\", \"P\", i, \"S\", S, 'Toluene')*1e-3\n",
    "    df['P'] = i\n",
    "    dfs.append(df)\n",
    "df_isobarP3 = pd.concat(dfs)\n",
    "dfs = []\n",
    "for j in P2_vec:\n",
    "    df=pd.DataFrame()\n",
    "    df['H'] = PropsSI(\"H\", \"P\", j, \"S\", S, 'Toluene')*1e-3\n",
    "    df['P'] = j\n",
    "    dfs.append(df)\n",
    "df_isobarP2 = pd.concat(dfs)\n",
    "dfs = []\n",
    "for k in P1_vec:\n",
    "    df=pd.DataFrame()\n",
    "    df['H'] = PropsSI(\"H\", \"P\", k, \"S\", S, 'Toluene')*1e-3\n",
    "    df['P'] = k\n",
    "    dfs.append(df)\n",
    "df_isobarP1 = pd.concat(dfs)\n",
    "\n",
    "for k in P4_vec:\n",
    "    df=pd.DataFrame()\n",
    "    df['H'] = PropsSI(\"H\", \"P\", k, \"S\", S, 'Toluene')*1e-3\n",
    "    df['P'] = k\n",
    "    dfs.append(df)\n",
    "df_isobarP4 = pd.concat(dfs)\n",
    "\n",
    "\n"
   ]
  },
  {
   "cell_type": "code",
   "execution_count": 14,
   "metadata": {},
   "outputs": [],
   "source": [
    "def plot(P2, P3, omegaHz, h3,eta1,eta2 ):\n",
    "    fig, (ax1,ax2) = plt.subplots(1, 2,figsize=(15,9))\n",
    "    plot_velocity_triangles(ax1,P2, P3, omegaHz, h3,eta1,eta2)\n",
    "    plot_diagram(ax2, P2, P3, omegaHz, h3,eta1,eta2)\n",
    "    plt.show()"
   ]
  },
  {
   "cell_type": "code",
   "execution_count": 15,
   "metadata": {},
   "outputs": [],
   "source": [
    "def plot_velocity_triangles(ax,P2, P3, omegaHz, h3,eta1,eta2 ):\n",
    "    \n",
    "    data = filter_df_6cols(dfnotopti, \n",
    "                           'state2_thermodynamic_static_P',P2,\n",
    "                           'state3_thermodynamic_static_P',P3,\n",
    "                           'omegaHz',omegaHz,\n",
    "                           'state3_height',h3,\n",
    "                           'eta1',eta1,\n",
    "                           'eta2',eta2\n",
    "                          )\n",
    "    originstatorinlet = [0, 0]\n",
    "    originrotorinlet = [150, 0]\n",
    "    originrotoroutlet = [500, 0]\n",
    "    #fig, ax = plt.subplots()\n",
    "\n",
    "    line1 = ax.quiver(originrotorinlet[0], originrotorinlet[1],\n",
    "              data['state2_kinematic_c_r'], data['state2_kinematic_c_theta'],\n",
    "              color='r', scale=1, angles='xy', scale_units=\"xy\")\n",
    "    line2 = ax.quiver(originrotorinlet[0] + data['state2_kinematic_w_r'], data['state2_kinematic_w_theta'],\n",
    "              data['state2_kinematic_u_r'], data['state2_kinematic_u_theta'],\n",
    "              color='g', scale=1, angles='xy', scale_units=\"xy\")\n",
    "    line3 = ax.quiver(originrotorinlet[0], originrotorinlet[1],\n",
    "              data['state2_kinematic_w_r'], data['state2_kinematic_w_theta'],\n",
    "              color='b', scale=1, angles='xy', scale_units=\"xy\")\n",
    "\n",
    "\n",
    "    line4 = ax.quiver(originrotoroutlet[0], originrotoroutlet[1],\n",
    "              data['state3_kinematic_c_r'], data['state3_kinematic_c_theta'],\n",
    "              color='r', scale=1, angles='xy', scale_units=\"xy\")\n",
    "    line5 = ax.quiver(originrotoroutlet[0] + data['state3_kinematic_w_r'], data['state3_kinematic_w_theta'],\n",
    "              data['state3_kinematic_u_r'], data['state3_kinematic_u_theta'],\n",
    "              color='g', scale=1, angles='xy', scale_units=\"xy\")\n",
    "    line6 = ax.quiver(originrotoroutlet[0], originrotoroutlet[1],\n",
    "              data['state3_kinematic_w_r'], data['state3_kinematic_w_theta'],\n",
    "              color='b', scale=1, angles='xy', scale_units=\"xy\")\n",
    "\n",
    "    #self.state2.kinematic.draw_with_c(ax, originrotorinlet)\n",
    "    #self.state3.kinematic.draw_with_w(ax, originrotoroutlet)\n",
    "    ax.set_xlim([0, 1000])\n",
    "    ax.set_ylim([-1000, 1000])\n"
   ]
  },
  {
   "cell_type": "code",
   "execution_count": 16,
   "metadata": {},
   "outputs": [],
   "source": [
    "def plot_diagram(ax, P2, P3, omegaHz, h3,eta1,eta2):\n",
    "    data = filter_df_6cols(dfnotopti, \n",
    "                           'state2_thermodynamic_static_P',P2,\n",
    "                           'state3_thermodynamic_static_P',P3,\n",
    "                           'omegaHz',omegaHz,\n",
    "                           'state3_height',h3,\n",
    "                           'eta1',eta1,\n",
    "                           'eta2',eta2\n",
    "                          )\n",
    "    #creating isobars\n",
    "    isoP1 = data['state1_thermodynamic_static_P'].values[0]\n",
    "    isoP2 = data['state2_thermodynamic_static_P'].values[0]\n",
    "    isoP3 = data['state3_thermodynamic_static_P'].values[0]\n",
    "    isoP4 = data['state4_thermodynamic_static_P'].values[0]\n",
    "\n",
    "#     print(P1)\n",
    "    stator_inlet = df_isobarP1[df_isobarP1['P']==isoP1]['H'].values\n",
    "    stator_outlet =  df_isobarP2[df_isobarP2['P']==isoP2]['H'].values\n",
    "    rotor_outlet = df_isobarP3[df_isobarP3['P']==isoP3]['H'].values\n",
    "    condensor_inlet = df_isobarP4[df_isobarP4['P']==isoP4]['H'].values\n",
    "\n",
    "    \n",
    "    \n",
    "    H1=data['state1_thermodynamic_static_H'].values[0]\n",
    "    H2=data['state2_thermodynamic_static_H'].values[0]\n",
    "    H3=data['state3_thermodynamic_static_H'].values[0]\n",
    "    H4=data['state4_thermodynamic_static_H'].values[0]\n",
    "    H01=data['state1_thermodynamic_total_H'].values[0]\n",
    "    H03=data['state3_thermodynamic_total_H'].values[0]\n",
    "    S1=data['state1_thermodynamic_static_S'].values[0]\n",
    "    S2=data['state2_thermodynamic_static_S'].values[0]\n",
    "    S3=data['state3_thermodynamic_static_S'].values[0]\n",
    "    S4=data['state4_thermodynamic_static_S'].values[0]\n",
    "\n",
    "    #condenser_inlet = PropsSI(\"H\", \"P\", P4, \"S\", S, 'Toluene')*1e-3\n",
    "\n",
    "    hdfpivot = df_contour.pivot('H', 'S')\n",
    "    X = hdfpivot.columns.levels[1].values\n",
    "    Y = hdfpivot.index.values\n",
    "    Z = hdfpivot.values\n",
    "    Xi, Yi = np.meshgrid(X, Y)\n",
    "\n",
    "    #fig, ax = plt.subplots(figsize=(10, 7))\n",
    "    ax.plot(S*1e-3, H01*np.ones(np.size(S))*1e-3, color='black', linestyle=':')\n",
    "    ax.plot(S*1e-3, H03*np.ones(np.size(S))*1e-3, color='black', linestyle=':')\n",
    "\n",
    "\n",
    "    ax.plot(S*1e-3, stator_inlet, color='black', linestyle='--')\n",
    "    ax.plot(S*1e-3, stator_outlet, color='black', linestyle='--')\n",
    "    ax.plot(S*1e-3, rotor_outlet, color='black', linestyle='--')\n",
    "    ax.plot(S*1e-3, condensor_inlet, color='black', linestyle='--')\n",
    "\n",
    "\n",
    "    # dome\n",
    "    ax.plot(dome1*1e-3, dome1h*1e-3, color='black')\n",
    "    ax.plot(dome2*1e-3, dome2h*1e-3, color='black')\n",
    "\n",
    "    # process\n",
    "    #ax.plot([S1*1e-3,S2*1e-3, S3*1e-3], [H1*1e-3,H2*1e-3,H3*1e-3], color='black', marker=\"X\")\n",
    "    ax.plot([S1*1e-3,S2*1e-3, S3*1e-3,S4*1e-3], [H1*1e-3,H2*1e-3,H3*1e-3,H4*1e-3], color='black', marker=\"X\")\n",
    "    #isentropic process\n",
    "#     ax.plot([S1*1e-3,S2s*1e-3], [H1*1e-3,H2s*1e-3], color='black', marker=\"o\")\n",
    "#     ax.plot([S2*1e-3,S3s*1e-3], [H2*1e-3,H3s*1e-3], color='black', marker=\"o\")\n",
    "\n",
    "    # compressibility\n",
    "    fig2 = ax.contourf(Xi, Yi, Z, 25, alpha=0.7, cmap=plt.cm.jet)\n",
    "    ax.set_xlim([.850, 1.5])\n",
    "    ax.ticklabel_format(fontsize=20)\n",
    "    ax.set_ylim([200, 700])\n",
    "    ax.set_xlabel(r'Entropy [KJ/kgK]', fontsize=15)\n",
    "    ax.set_ylabel(r'Enthalpy [KJ/kg]', fontsize=15)\n",
    "    cb = plt.colorbar(fig2)\n",
    "    cb.set_label(r\"Compressibility factor [-]\", fontsize=15)\n"
   ]
  },
  {
   "cell_type": "code",
   "execution_count": 19,
   "metadata": {},
   "outputs": [
    {
     "data": {
      "application/vnd.jupyter.widget-view+json": {
       "model_id": "b33e55876f80428280fc1ada3944d677",
       "version_major": 2,
       "version_minor": 0
      },
      "text/plain": [
       "A Jupyter Widget"
      ]
     },
     "metadata": {},
     "output_type": "display_data"
    }
   ],
   "source": [
    "\n",
    "y=interactive(plot,  \n",
    "              P3=(P3_vec[0],P3_vec[-1],np.diff(P3_vec)[0]),\n",
    "              P2=(P2_vec[0],P2_vec[-1],np.diff(P2_vec)[0]),\n",
    "              omegaHz=(omega_vec[0],omega_vec[-1],np.diff(omega_vec)[0]),\n",
    "              h3=(h3_vec2[0],h3_vec2[-1],np.diff(h3_vec2)[0]),\n",
    "              eta1=(eta1_vec[0],eta1_vec[-1],np.diff(eta1_vec)[0]),\n",
    "              eta2=(eta2_vec[0],eta2_vec[-1],np.diff(eta2_vec)[0])\n",
    "             )\n",
    "display(y)"
   ]
  },
  {
   "cell_type": "code",
   "execution_count": 5,
   "metadata": {},
   "outputs": [
    {
     "data": {
      "application/vnd.jupyter.widget-view+json": {
       "model_id": "906009ced6d846f8a491d2173f2ebcac",
       "version_major": 2,
       "version_minor": 0
      },
      "text/plain": [
       "A Jupyter Widget"
      ]
     },
     "metadata": {},
     "output_type": "display_data"
    }
   ],
   "source": [
    "\n",
    "y=interactive(plot_velocity_triangles,  \n",
    "              P3=(P3_vec[0],P3_vec[-1],np.diff(P3_vec)[0]),\n",
    "              alpha2=(alpha2_vec[0],alpha2_vec[-1],np.diff(alpha2_vec)[0]),\n",
    "              omegaHz=(omega_vec[0],omega_vec[-1],np.diff(omega_vec)[0]),\n",
    "              h3=(h3_vec2[0],h3_vec2[-1],np.diff(h3_vec2)[0]) \n",
    "             )\n",
    "display(y)"
   ]
  },
  {
   "cell_type": "code",
   "execution_count": 72,
   "metadata": {},
   "outputs": [
    {
     "data": {
      "text/plain": [
       "array([ 50965.41795731,  53381.44617081,  56033.48684311,  58956.22282028,\n",
       "        62191.36304855,  65789.49708939,  69812.56017685,  74337.16459274,\n",
       "        79459.16261673,  85300.01440048,  92015.83528519,  99810.53571701,\n",
       "       108955.37099838, 119818.83993149, 132913.90123367, 148975.35390854,\n",
       "       169092.37279892, 194947.86481857, 229279.8913002 , 276847.81980515])"
      ]
     },
     "execution_count": 72,
     "metadata": {},
     "output_type": "execute_result"
    }
   ],
   "source": [
    "P2_vec"
   ]
  },
  {
   "cell_type": "code",
   "execution_count": 43,
   "metadata": {},
   "outputs": [
    {
     "data": {
      "text/plain": [
       "array([0.78947368, 0.78947368, 0.78947368, 0.78947368, 0.78947368,\n",
       "       0.78947368, 0.78947368, 0.78947368, 0.78947368, 0.78947368,\n",
       "       0.78947368, 0.78947368, 0.78947368, 0.78947368, 0.78947368,\n",
       "       0.78947368, 0.78947368, 0.78947368, 0.78947368])"
      ]
     },
     "execution_count": 43,
     "metadata": {},
     "output_type": "execute_result"
    }
   ],
   "source": [
    "np.diff(alpha2_vec)[0]"
   ]
  },
  {
   "cell_type": "code",
   "execution_count": 44,
   "metadata": {},
   "outputs": [
    {
     "data": {
      "text/plain": [
       "array([70.        , 70.78947368, 71.57894737, 72.36842105, 73.15789474,\n",
       "       73.94736842, 74.73684211, 75.52631579, 76.31578947, 77.10526316,\n",
       "       77.89473684, 78.68421053, 79.47368421, 80.26315789, 81.05263158,\n",
       "       81.84210526, 82.63157895, 83.42105263, 84.21052632, 85.        ])"
      ]
     },
     "execution_count": 44,
     "metadata": {},
     "output_type": "execute_result"
    }
   ],
   "source": [
    "alpha2_vec"
   ]
  },
  {
   "cell_type": "code",
   "execution_count": null,
   "metadata": {},
   "outputs": [],
   "source": []
  }
 ],
 "metadata": {
  "kernelspec": {
   "display_name": "Python 2",
   "language": "python",
   "name": "python2"
  },
  "language_info": {
   "codemirror_mode": {
    "name": "ipython",
    "version": 2
   },
   "file_extension": ".py",
   "mimetype": "text/x-python",
   "name": "python",
   "nbconvert_exporter": "python",
   "pygments_lexer": "ipython2",
   "version": "2.7.12"
  }
 },
 "nbformat": 4,
 "nbformat_minor": 2
}
