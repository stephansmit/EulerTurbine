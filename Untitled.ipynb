{
 "cells": [
  {
   "cell_type": "code",
   "execution_count": 268,
   "metadata": {},
   "outputs": [],
   "source": [
    "\n"
   ]
  },
  {
   "cell_type": "code",
   "execution_count": 293,
   "metadata": {},
   "outputs": [
    {
     "data": {
      "text/plain": [
       "116178.68209367343"
      ]
     },
     "execution_count": 293,
     "metadata": {},
     "output_type": "execute_result"
    }
   ],
   "source": [
    "%matplotlib inline\n",
    "import numpy as np\n",
    "import matplotlib.pyplot as plt\n",
    "\n",
    "\n",
    "#inputs\n",
    "c2_mag = -477\n",
    "alpha2 = 77  #absolute flow angle\n",
    "alpha3 = -75 #relative flow angle\n",
    "omega = 2600\n",
    "Rin = 0.125\n",
    "Rout = 0.089\n",
    "\n",
    "c2x = c2_mag*np.cos(np.radians(alpha1))\n",
    "c2y = c2_mag*np.sin(np.radians(alpha1))\n",
    "C2 = np.array([c2x,c2y])\n",
    "u2y = Rin*omega\n",
    "U2 = np.array([0,u2y])\n",
    "V2 = C2+U2\n",
    "v2x = V2[0]\n",
    "v2y = V2[1]\n",
    "\n",
    "v3x = c2x\n",
    "v3y = v3x*np.tan(np.radians(alpha3))\n",
    "V3 = np.array([v3x,v3y])\n",
    "u3y = Rin*omega\n",
    "U3 = np.array([0,-u3y])\n",
    "C3 = V3+U3\n",
    "c3y = C3[0]\n",
    "c3x=C3[1]\n",
    "\n",
    "DOR=(v3y**2 - v2y**2 - u3y**2 + u2y**2)/(c2y**2-0+v3y**2-v2y**2)\n",
    "work = -U2[1]*c2y -(U3[1]*c3y)\n",
    "\n",
    "work"
   ]
  },
  {
   "cell_type": "code",
   "execution_count": 294,
   "metadata": {},
   "outputs": [
    {
     "data": {
      "text/plain": [
       "<matplotlib.axes._subplots.AxesSubplot at 0x7faf600e03d0>"
      ]
     },
     "execution_count": 294,
     "metadata": {},
     "output_type": "execute_result"
    },
    {
     "data": {
      "image/png": "[encoded data removed]",
      "text/plain": [
       "<matplotlib.figure.Figure at 0x7faf5fd86950>"
      ]
     },
     "metadata": {},
     "output_type": "display_data"
    }
   ],
   "source": [
    "draw_figure(C2,V2,U2,C3,U3,V3)"
   ]
  },
  {
   "cell_type": "code",
   "execution_count": 888,
   "metadata": {},
   "outputs": [],
   "source": [
    "        \n",
    "class RadialTurbineVelocityTriangles():\n",
    "    def __init__(self, \n",
    "                 omega, \n",
    "                 radius_rotor_in, \n",
    "                 radius_rotor_out,\n",
    "                 beta, DOR=0):\n",
    "        self.state1 = TurbineVelocityState()\n",
    "        self.state2 = TurbineVelocityState(omega, radius_rotor_in )\n",
    "        self.state2.set_state_alpha_cmag(77, 500)\n",
    "        self.state3 = TurbineVelocityState(omega, radius_rotor_out )\n",
    "        if DOR != 0:\n",
    "            self.set_state3_with_DOR(DOR)\n",
    "        else:\n",
    "            self.set_state3_with_beta(beta)\n",
    "            \n",
    "    def set_state3_with_DOR(self,DOR):\n",
    "        wtheta3 = self.calc_wtheta3_with_DOR(DOR)\n",
    "        print(wtheta3)\n",
    "        self.state3.set_state_wtheta_cr(wtheta3, self.state2.c.r)\n",
    "\n",
    "    def set_state3_with_beta(self,beta):\n",
    "        self.state3.set_state_beta_wr(beta, self.state2.c.r)    \n",
    "\n",
    "    def calc_wtheta3_with_DOR(self,DOR):\n",
    "        \n",
    "        term1 =   DOR* (self.state1.c.theta**2) \\\n",
    "                - DOR*self.state2.c.theta**2 \\\n",
    "                - (DOR-1)*(  self.state2.u.theta**2 \\\n",
    "                           - self.state3.u.theta**2 \\\n",
    "                           - self.state2.w.theta**2) \n",
    "        term2 = DOR-1\n",
    "        if (term1 < 0) and (term2 < 0):\n",
    "            term1 = abs(term1)\n",
    "            term2 = abs(term2)\n",
    "        \n",
    "        wtheta3 = np.sqrt(abs(term1))/np.sqrt(abs(term2))\n",
    "        \n",
    "#             np.sqrt(DOR-1)\n",
    "        return wtheta3\n",
    "    \n",
    "    def draw(self):\n",
    "        originstator = [0, 0]\n",
    "        originrotor = [150, 0]\n",
    "        fig, ax = plt.subplots()\n",
    "        self.state2.draw_with_c(ax, originstator)\n",
    "        self.state3.draw_with_w(ax, originrotor)\n",
    "        ax.set_xlim([0,300])\n",
    "        ax.set_ylim([-500,500])\n",
    "        return ax\n",
    "\n",
    "    def calculate_DOR(self):\n",
    "        self.DOR = (self.state3.w.theta**2 - self.state2.w.theta**2\n",
    "                   -self.state3.u.theta**2 + self.state2.u.theta**2\n",
    "                   )/ \\\n",
    "                   (self.state2.c.theta**2 - self.state1.c.theta**2\n",
    "                   +self.state3.w.theta**2 - self.state2.w.theta**2\n",
    "                    -self.state3.u.theta**2 + self.state2.u.theta**2\n",
    "                   ) \n",
    "        \n",
    "    def calculate_work(self):\n",
    "        self.work = self.state2.u.theta*self.state2.c.theta -  \\\n",
    "                    abs(self.state3.u.theta*self.state3.c.theta)\n",
    "        \n",
    "        \n"
   ]
  },
  {
   "cell_type": "code",
   "execution_count": 936,
   "metadata": {},
   "outputs": [
    {
     "data": {
      "text/plain": [
       "0.08350199232047407"
      ]
     },
     "execution_count": 936,
     "metadata": {},
     "output_type": "execute_result"
    }
   ],
   "source": [
    "omega=2300\n",
    "radius_rotor_in=.125\n",
    "radius_rotor_out=.086\n",
    "beta=-50\n",
    "Triangles = RadialTurbineVelocityTriangles(omega, \n",
    "                                      radius_rotor_in, \n",
    "                                      radius_rotor_out,\n",
    "                                     beta, 0)\n",
    "Triangles.calculate_DOR()\n",
    "Triangles.calculate_work()\n",
    "\n",
    "Triangles.DOR\n",
    "\n",
    "# Triangles.state2.u.vec"
   ]
  },
  {
   "cell_type": "code",
   "execution_count": 937,
   "metadata": {},
   "outputs": [
    {
     "data": {
      "text/plain": [
       "<matplotlib.axes._subplots.AxesSubplot at 0x7faf585381d0>"
      ]
     },
     "execution_count": 937,
     "metadata": {},
     "output_type": "execute_result"
    },
    {
     "data": {
      "image/png": "[encoded data removed]",
      "text/plain": [
       "<matplotlib.figure.Figure at 0x7faf584d9690>"
      ]
     },
     "metadata": {},
     "output_type": "display_data"
    }
   ],
   "source": [
    "Triangles.draw()"
   ]
  },
  {
   "cell_type": "code",
   "execution_count": 467,
   "metadata": {},
   "outputs": [
    {
     "data": {
      "text/plain": [
       "[<matplotlib.lines.Line2D at 0x7faf5ea561d0>]"
      ]
     },
     "execution_count": 467,
     "metadata": {},
     "output_type": "execute_result"
    },
    {
     "data": {
      "image/png": "[encoded data removed]",
      "text/plain": [
       "<matplotlib.figure.Figure at 0x7faf5e893d50>"
      ]
     },
     "metadata": {},
     "output_type": "display_data"
    }
   ],
   "source": [
    "x = np.linspace(-80,80,100 )\n",
    "y=[]\n",
    "for i in x:\n",
    "    y.append(calculate_work(i))\n",
    "plt.plot(x,y)"
   ]
  },
  {
   "cell_type": "code",
   "execution_count": null,
   "metadata": {},
   "outputs": [],
   "source": []
  }
 ],
 "metadata": {
  "kernelspec": {
   "display_name": "Python 2",
   "language": "python",
   "name": "python2"
  },
  "language_info": {
   "codemirror_mode": {
    "name": "ipython",
    "version": 2
   },
   "file_extension": ".py",
   "mimetype": "text/x-python",
   "name": "python",
   "nbconvert_exporter": "python",
   "pygments_lexer": "ipython2",
   "version": "2.7.12"
  }
 },
 "nbformat": 4,
 "nbformat_minor": 2
}
